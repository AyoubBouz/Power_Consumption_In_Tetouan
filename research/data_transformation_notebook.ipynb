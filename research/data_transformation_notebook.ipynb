{
 "cells": [
  {
   "cell_type": "code",
   "execution_count": 3,
   "metadata": {},
   "outputs": [],
   "source": [
    "import os"
   ]
  },
  {
   "cell_type": "code",
   "execution_count": 4,
   "metadata": {},
   "outputs": [],
   "source": [
    "os.chdir('../')"
   ]
  },
  {
   "cell_type": "code",
   "execution_count": 5,
   "metadata": {},
   "outputs": [
    {
     "data": {
      "text/plain": [
       "'c:\\\\Users\\\\PC\\\\Documents\\\\projects\\\\Power_Consumption_In_Tetouan'"
      ]
     },
     "execution_count": 5,
     "metadata": {},
     "output_type": "execute_result"
    }
   ],
   "source": [
    "%pwd"
   ]
  },
  {
   "cell_type": "code",
   "execution_count": 6,
   "metadata": {},
   "outputs": [],
   "source": [
    "from dataclasses import dataclass\n",
    "from pathlib import Path\n",
    "\n",
    "\n",
    "@dataclass(frozen=True)\n",
    "class DataTransformationConfig:\n",
    "    root_dir: Path\n",
    "    data_path: Path"
   ]
  },
  {
   "cell_type": "code",
   "execution_count": 7,
   "metadata": {},
   "outputs": [],
   "source": [
    "from powerconsumptiontetouan.constants import *\n",
    "from powerconsumptiontetouan.utils.common import read_yaml, create_directories"
   ]
  },
  {
   "cell_type": "code",
   "execution_count": 8,
   "metadata": {},
   "outputs": [],
   "source": [
    "class ConfigurationManager:\n",
    "    def __init__(\n",
    "        self,\n",
    "        config_filepath = CONFIG_FILE_PATH,\n",
    "        params_filepath = PARAMS_FILE_PATH,\n",
    "        schema_filepath = SCHEMA_FILE_PATH):\n",
    "\n",
    "        self.config = read_yaml(config_filepath)\n",
    "        self.params = read_yaml(params_filepath)\n",
    "        self.schema = read_yaml(schema_filepath)\n",
    "\n",
    "        create_directories([self.config.artifacts_root])\n",
    "\n",
    "\n",
    "    \n",
    "    def get_data_transformation_config(self) -> DataTransformationConfig:\n",
    "        config = self.config.data_transformation\n",
    "\n",
    "        create_directories([config.root_dir])\n",
    "\n",
    "        data_transformation_config = DataTransformationConfig(\n",
    "            root_dir=config.root_dir,\n",
    "            data_path=config.data_path,\n",
    "        )\n",
    "\n",
    "        return data_transformation_config"
   ]
  },
  {
   "cell_type": "markdown",
   "metadata": {},
   "source": [
    "<!-- df.Datetime = pd.to_datetime(df.Datetime)\n",
    "print(f'The datatype for Datetime is: {df.Datetime.dtype}.\\n')\n",
    "\n",
    "df['month'] = df.Datetime.dt.month\n",
    "df['weekday'] = df.Datetime.dt.day\n",
    "df['time'] = df.Datetime.dt.time.astype(str) -->"
   ]
  },
  {
   "cell_type": "code",
   "execution_count": 13,
   "metadata": {},
   "outputs": [],
   "source": [
    "import os\n",
    "from powerconsumptiontetouan import logger\n",
    "from sklearn.model_selection import train_test_split\n",
    "from sklearn.preprocessing import MinMaxScaler, OneHotEncoder\n",
    "import pandas as pd"
   ]
  },
  {
   "cell_type": "code",
   "execution_count": 10,
   "metadata": {},
   "outputs": [],
   "source": [
    "class DataTransformation:\n",
    "    def __init__(self, config: DataTransformationConfig):\n",
    "        self.config = config\n",
    "\n",
    "\n",
    "\n",
    "    def preprocessing_features_data(self):\n",
    "        data = pd.read_csv(self.config.data_path)\n",
    "        data.Datetime = pd.to_datetime(data.Datetime)\n",
    "        data['month'] = data.Datetime.dt.month\n",
    "        data['weekday'] = data.Datetime.dt.day\n",
    "        data['time'] = data.Datetime.dt.time.astype(str)\n",
    "        features = ['Temperature', 'Humidity', 'WindSpeed', 'GeneralDiffuseFlows', 'DiffuseFlows',  'month', 'weekday', 'time']\n",
    "        targets = ['PowerConsumption_Zone1','PowerConsumption_Zone2', 'PowerConsumption_Zone3']\n",
    "        data_features =data[features]\n",
    "        numerical_features = data_features.drop(columns=['time']).columns\n",
    "        time_feature = ['time']\n",
    "        scaler = MinMaxScaler()\n",
    "        data_features[numerical_features] = scaler.fit_transform(data_features[numerical_features])\n",
    "        encoder = OneHotEncoder(handle_unknown=\"ignore\")\n",
    "        # OneHot encode the 'time' feature\n",
    "        time_encoded = encoder.fit_transform(data_features[time_feature])\n",
    "\n",
    "        time_encoded_df = pd.DataFrame(time_encoded.todense())\n",
    "        # Concatenate the encoded time values with the scaled DataFrame\n",
    "\n",
    "        data_features = pd.concat([data_features, time_encoded_df], axis=1)\n",
    "\n",
    "        # Drop the original 'time' and 'time_seconds' columns\n",
    "        data_features = data_features.drop(columns=['time'])\n",
    "\n",
    "        data_targets=data[targets]\n",
    "\n",
    "        data_ml=pd.concat([data_features,data_targets],axis=1)\n",
    "\n",
    "        train, test = train_test_split(data_ml,test_size=0.33)\n",
    "\n",
    "        train.to_csv(os.path.join(self.config.root_dir, \"train.csv\"),index = False)\n",
    "        test.to_csv(os.path.join(self.config.root_dir, \"test.csv\"),index = False)\n",
    "\n",
    "        logger.info(\"Splited data into training and test sets\")\n",
    "        logger.info(train.shape)\n",
    "        logger.info(test.shape)\n",
    "\n",
    "        print(train.shape)\n",
    "        print(test.shape)\n",
    "\n",
    "    \n",
    "    \n"
   ]
  },
  {
   "cell_type": "code",
   "execution_count": 12,
   "metadata": {},
   "outputs": [
    {
     "name": "stdout",
     "output_type": "stream",
     "text": [
      "[2024-07-30 02:56:35,436: INFO: common: yaml file: config\\config.yaml loaded successfully]\n",
      "[2024-07-30 02:56:35,437: INFO: common: yaml file: params.yaml loaded successfully]\n",
      "[2024-07-30 02:56:35,438: INFO: common: yaml file: schema.yaml loaded successfully]\n",
      "[2024-07-30 02:56:35,439: INFO: common: created directory at: artifacts]\n",
      "[2024-07-30 02:56:35,440: INFO: common: created directory at: artifacts/data_transformation]\n"
     ]
    },
    {
     "name": "stderr",
     "output_type": "stream",
     "text": [
      "C:\\Users\\PC\\AppData\\Local\\Temp\\ipykernel_7492\\2267528994.py:19: SettingWithCopyWarning: \n",
      "A value is trying to be set on a copy of a slice from a DataFrame.\n",
      "Try using .loc[row_indexer,col_indexer] = value instead\n",
      "\n",
      "See the caveats in the documentation: https://pandas.pydata.org/pandas-docs/stable/user_guide/indexing.html#returning-a-view-versus-a-copy\n",
      "  data_features[numerical_features] = scaler.fit_transform(data_features[numerical_features])\n"
     ]
    }
   ],
   "source": [
    "try:\n",
    "    config = ConfigurationManager()\n",
    "    data_transformation_config = config.get_data_transformation_config()\n",
    "    data_transformation = DataTransformation(config=data_transformation_config)\n",
    "    data_transformation.preprocessing_features_data()\n",
    "except Exception as e:\n",
    "    raise e"
   ]
  },
  {
   "cell_type": "code",
   "execution_count": null,
   "metadata": {},
   "outputs": [],
   "source": []
  },
  {
   "cell_type": "code",
   "execution_count": null,
   "metadata": {},
   "outputs": [],
   "source": []
  }
 ],
 "metadata": {
  "kernelspec": {
   "display_name": "mlenv",
   "language": "python",
   "name": "python3"
  },
  "language_info": {
   "codemirror_mode": {
    "name": "ipython",
    "version": 3
   },
   "file_extension": ".py",
   "mimetype": "text/x-python",
   "name": "python",
   "nbconvert_exporter": "python",
   "pygments_lexer": "ipython3",
   "version": "3.9.12"
  }
 },
 "nbformat": 4,
 "nbformat_minor": 2
}
