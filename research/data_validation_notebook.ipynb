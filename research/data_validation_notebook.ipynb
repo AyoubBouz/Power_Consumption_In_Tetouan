{
 "cells": [
  {
   "cell_type": "code",
   "execution_count": 27,
   "metadata": {},
   "outputs": [],
   "source": [
    "import os\n",
    "os.chdir(\"../\")"
   ]
  },
  {
   "cell_type": "code",
   "execution_count": 28,
   "metadata": {},
   "outputs": [
    {
     "data": {
      "text/plain": [
       "'c:\\\\Users\\\\PC\\\\Documents\\\\projects\\\\Power_Consumption_In_Tetouan'"
      ]
     },
     "execution_count": 28,
     "metadata": {},
     "output_type": "execute_result"
    }
   ],
   "source": [
    "%pwd"
   ]
  },
  {
   "cell_type": "code",
   "execution_count": 1,
   "metadata": {},
   "outputs": [],
   "source": [
    "import numpy as np\n",
    "import pandas as pd\n",
    "from glob import glob"
   ]
  },
  {
   "cell_type": "code",
   "execution_count": 8,
   "metadata": {},
   "outputs": [
    {
     "data": {
      "text/plain": [
       "['../artifacts\\\\data_ingestion']"
      ]
     },
     "execution_count": 8,
     "metadata": {},
     "output_type": "execute_result"
    }
   ],
   "source": [
    "glob('../artifacts/*')"
   ]
  },
  {
   "cell_type": "code",
   "execution_count": 9,
   "metadata": {},
   "outputs": [
    {
     "data": {
      "text/plain": [
       "<bound method NDFrame.head of                Datetime  Temperature  Humidity  WindSpeed  \\\n",
       "0         1/1/2017 0:00        6.559      73.8      0.083   \n",
       "1         1/1/2017 0:10        6.414      74.5      0.083   \n",
       "2         1/1/2017 0:20        6.313      74.5      0.080   \n",
       "3         1/1/2017 0:30        6.121      75.0      0.083   \n",
       "4         1/1/2017 0:40        5.921      75.7      0.081   \n",
       "...                 ...          ...       ...        ...   \n",
       "52411  12/30/2017 23:10        7.010      72.4      0.080   \n",
       "52412  12/30/2017 23:20        6.947      72.6      0.082   \n",
       "52413  12/30/2017 23:30        6.900      72.8      0.086   \n",
       "52414  12/30/2017 23:40        6.758      73.0      0.080   \n",
       "52415  12/30/2017 23:50        6.580      74.1      0.081   \n",
       "\n",
       "       GeneralDiffuseFlows  DiffuseFlows  PowerConsumption_Zone1  \\\n",
       "0                    0.051         0.119             34055.69620   \n",
       "1                    0.070         0.085             29814.68354   \n",
       "2                    0.062         0.100             29128.10127   \n",
       "3                    0.091         0.096             28228.86076   \n",
       "4                    0.048         0.085             27335.69620   \n",
       "...                    ...           ...                     ...   \n",
       "52411                0.040         0.096             31160.45627   \n",
       "52412                0.051         0.093             30430.41825   \n",
       "52413                0.084         0.074             29590.87452   \n",
       "52414                0.066         0.089             28958.17490   \n",
       "52415                0.062         0.111             28349.80989   \n",
       "\n",
       "       PowerConsumption_Zone2  PowerConsumption_Zone3  \n",
       "0                 16128.87538             20240.96386  \n",
       "1                 19375.07599             20131.08434  \n",
       "2                 19006.68693             19668.43373  \n",
       "3                 18361.09422             18899.27711  \n",
       "4                 17872.34043             18442.40964  \n",
       "...                       ...                     ...  \n",
       "52411             26857.31820             14780.31212  \n",
       "52412             26124.57809             14428.81152  \n",
       "52413             25277.69254             13806.48259  \n",
       "52414             24692.23688             13512.60504  \n",
       "52415             24055.23167             13345.49820  \n",
       "\n",
       "[52416 rows x 9 columns]>"
      ]
     },
     "execution_count": 9,
     "metadata": {},
     "output_type": "execute_result"
    }
   ],
   "source": [
    "df=pd.read_csv('../artifacts/data_ingestion/powerconsumption.csv')\n",
    "df.head"
   ]
  },
  {
   "cell_type": "code",
   "execution_count": 11,
   "metadata": {},
   "outputs": [
    {
     "name": "stdout",
     "output_type": "stream",
     "text": [
      "<class 'pandas.core.frame.DataFrame'>\n",
      "RangeIndex: 52416 entries, 0 to 52415\n",
      "Data columns (total 9 columns):\n",
      " #   Column                  Non-Null Count  Dtype  \n",
      "---  ------                  --------------  -----  \n",
      " 0   Datetime                52416 non-null  object \n",
      " 1   Temperature             52416 non-null  float64\n",
      " 2   Humidity                52416 non-null  float64\n",
      " 3   WindSpeed               52416 non-null  float64\n",
      " 4   GeneralDiffuseFlows     52416 non-null  float64\n",
      " 5   DiffuseFlows            52416 non-null  float64\n",
      " 6   PowerConsumption_Zone1  52416 non-null  float64\n",
      " 7   PowerConsumption_Zone2  52416 non-null  float64\n",
      " 8   PowerConsumption_Zone3  52416 non-null  float64\n",
      "dtypes: float64(8), object(1)\n",
      "memory usage: 3.6+ MB\n"
     ]
    }
   ],
   "source": [
    "df.info()"
   ]
  },
  {
   "cell_type": "code",
   "execution_count": 13,
   "metadata": {},
   "outputs": [
    {
     "data": {
      "text/plain": [
       "Datetime                  0\n",
       "Temperature               0\n",
       "Humidity                  0\n",
       "WindSpeed                 0\n",
       "GeneralDiffuseFlows       0\n",
       "DiffuseFlows              0\n",
       "PowerConsumption_Zone1    0\n",
       "PowerConsumption_Zone2    0\n",
       "PowerConsumption_Zone3    0\n",
       "dtype: int64"
      ]
     },
     "execution_count": 13,
     "metadata": {},
     "output_type": "execute_result"
    }
   ],
   "source": [
    "df.isnull().sum()"
   ]
  },
  {
   "cell_type": "code",
   "execution_count": 15,
   "metadata": {},
   "outputs": [
    {
     "data": {
      "text/plain": [
       "(52416, 9)"
      ]
     },
     "execution_count": 15,
     "metadata": {},
     "output_type": "execute_result"
    }
   ],
   "source": [
    "df.shape"
   ]
  },
  {
   "cell_type": "code",
   "execution_count": 16,
   "metadata": {},
   "outputs": [
    {
     "data": {
      "text/plain": [
       "0           1/1/2017 0:00\n",
       "1           1/1/2017 0:10\n",
       "2           1/1/2017 0:20\n",
       "3           1/1/2017 0:30\n",
       "4           1/1/2017 0:40\n",
       "               ...       \n",
       "52411    12/30/2017 23:10\n",
       "52412    12/30/2017 23:20\n",
       "52413    12/30/2017 23:30\n",
       "52414    12/30/2017 23:40\n",
       "52415    12/30/2017 23:50\n",
       "Name: Datetime, Length: 52416, dtype: object"
      ]
     },
     "execution_count": 16,
     "metadata": {},
     "output_type": "execute_result"
    }
   ],
   "source": [
    "df.Datetime"
   ]
  },
  {
   "cell_type": "code",
   "execution_count": 30,
   "metadata": {},
   "outputs": [
    {
     "data": {
      "text/plain": [
       "Index(['Datetime', 'Temperature', 'Humidity', 'WindSpeed',\n",
       "       'GeneralDiffuseFlows', 'DiffuseFlows', 'PowerConsumption_Zone1',\n",
       "       'PowerConsumption_Zone2', 'PowerConsumption_Zone3'],\n",
       "      dtype='object')"
      ]
     },
     "execution_count": 30,
     "metadata": {},
     "output_type": "execute_result"
    }
   ],
   "source": [
    "df.columns"
   ]
  },
  {
   "cell_type": "code",
   "execution_count": 17,
   "metadata": {},
   "outputs": [],
   "source": [
    "from dataclasses import dataclass\n",
    "from pathlib import Path\n",
    "\n",
    "\n",
    "@dataclass(frozen=True)\n",
    "class DataValidationConfig:\n",
    "    root_dir: Path\n",
    "    STATUS_FILE: str\n",
    "    unzip_data_dir: Path\n",
    "    all_schema: dict"
   ]
  },
  {
   "cell_type": "code",
   "execution_count": 20,
   "metadata": {},
   "outputs": [],
   "source": [
    "from powerconsumptiontetouan.constants import *\n",
    "from powerconsumptiontetouan.utils.common import read_yaml, create_directories"
   ]
  },
  {
   "cell_type": "code",
   "execution_count": 21,
   "metadata": {},
   "outputs": [],
   "source": [
    "class ConfigurationManager:\n",
    "    def __init__(\n",
    "        self,\n",
    "        config_filepath = CONFIG_FILE_PATH,\n",
    "        params_filepath = PARAMS_FILE_PATH,\n",
    "        schema_filepath = SCHEMA_FILE_PATH):\n",
    "\n",
    "        self.config = read_yaml(config_filepath)\n",
    "        self.params = read_yaml(params_filepath)\n",
    "        self.schema = read_yaml(schema_filepath)\n",
    "\n",
    "        create_directories([self.config.artifacts_root])\n",
    "\n",
    "\n",
    "    \n",
    "    def get_data_validation_config(self) -> DataValidationConfig:\n",
    "        config = self.config.data_validation\n",
    "        schema = self.schema.COLUMNS\n",
    "\n",
    "        create_directories([config.root_dir])\n",
    "\n",
    "        data_validation_config = DataValidationConfig(\n",
    "            root_dir=config.root_dir,\n",
    "            STATUS_FILE=config.STATUS_FILE,\n",
    "            unzip_data_dir = config.unzip_data_dir,\n",
    "            all_schema=schema,\n",
    "        )\n",
    "\n",
    "        return data_validation_config"
   ]
  },
  {
   "cell_type": "code",
   "execution_count": 23,
   "metadata": {},
   "outputs": [],
   "source": [
    "from powerconsumptiontetouan import logger"
   ]
  },
  {
   "cell_type": "code",
   "execution_count": 24,
   "metadata": {},
   "outputs": [],
   "source": [
    "class DataValiadtion:\n",
    "    def __init__(self, config: DataValidationConfig):\n",
    "        self.config = config\n",
    "\n",
    "\n",
    "    def validate_all_columns(self)-> bool:\n",
    "        try:\n",
    "            validation_status = None\n",
    "\n",
    "            data = pd.read_csv(self.config.unzip_data_dir)\n",
    "            all_cols = list(data.columns)\n",
    "\n",
    "            all_schema = self.config.all_schema.keys()\n",
    "\n",
    "            \n",
    "            for col in all_cols:\n",
    "                if col not in all_schema:\n",
    "                    validation_status = False\n",
    "                    with open(self.config.STATUS_FILE, 'w') as f:\n",
    "                        f.write(f\"Validation status: {validation_status}\")\n",
    "                else:\n",
    "                    validation_status = True\n",
    "                    with open(self.config.STATUS_FILE, 'w') as f:\n",
    "                        f.write(f\"Validation status: {validation_status}\")\n",
    "\n",
    "            return validation_status\n",
    "        \n",
    "        except Exception as e:\n",
    "            raise e\n",
    "\n"
   ]
  },
  {
   "cell_type": "code",
   "execution_count": 31,
   "metadata": {},
   "outputs": [
    {
     "name": "stdout",
     "output_type": "stream",
     "text": [
      "[2024-07-28 06:31:15,074: INFO: common: yaml file: config\\config.yaml loaded successfully]\n",
      "[2024-07-28 06:31:15,075: INFO: common: yaml file: params.yaml loaded successfully]\n",
      "[2024-07-28 06:31:15,081: INFO: common: yaml file: schema.yaml loaded successfully]\n",
      "[2024-07-28 06:31:15,081: INFO: common: created directory at: artifacts]\n",
      "[2024-07-28 06:31:15,082: INFO: common: created directory at: artifacts/data_validation]\n"
     ]
    }
   ],
   "source": [
    "try:\n",
    "    config = ConfigurationManager()\n",
    "    data_validation_config = config.get_data_validation_config()\n",
    "    data_validation = DataValiadtion(config=data_validation_config)\n",
    "    data_validation.validate_all_columns()\n",
    "except Exception as e:\n",
    "    raise e"
   ]
  },
  {
   "cell_type": "code",
   "execution_count": null,
   "metadata": {},
   "outputs": [],
   "source": []
  }
 ],
 "metadata": {
  "kernelspec": {
   "display_name": "mlenv",
   "language": "python",
   "name": "python3"
  },
  "language_info": {
   "codemirror_mode": {
    "name": "ipython",
    "version": 3
   },
   "file_extension": ".py",
   "mimetype": "text/x-python",
   "name": "python",
   "nbconvert_exporter": "python",
   "pygments_lexer": "ipython3",
   "version": "3.9.12"
  }
 },
 "nbformat": 4,
 "nbformat_minor": 2
}
